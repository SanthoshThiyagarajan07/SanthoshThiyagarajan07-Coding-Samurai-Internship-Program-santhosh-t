{
  "nbformat": 4,
  "nbformat_minor": 0,
  "metadata": {
    "colab": {
      "provenance": []
    },
    "kernelspec": {
      "name": "python3",
      "display_name": "Python 3"
    },
    "language_info": {
      "name": "python"
    }
  },
  "cells": [
    {
      "cell_type": "code",
      "source": [
        "!pip install ucimlrepo"
      ],
      "metadata": {
        "colab": {
          "base_uri": "https://localhost:8080/"
        },
        "id": "eeX6Gz5B5gYf",
        "outputId": "8c823dac-f350-495c-f77d-f4428bd36239"
      },
      "execution_count": null,
      "outputs": [
        {
          "output_type": "stream",
          "name": "stdout",
          "text": [
            "Collecting ucimlrepo\n",
            "  Downloading ucimlrepo-0.0.7-py3-none-any.whl (8.0 kB)\n",
            "Requirement already satisfied: pandas>=1.0.0 in /usr/local/lib/python3.10/dist-packages (from ucimlrepo) (2.0.3)\n",
            "Requirement already satisfied: certifi>=2020.12.5 in /usr/local/lib/python3.10/dist-packages (from ucimlrepo) (2024.7.4)\n",
            "Requirement already satisfied: python-dateutil>=2.8.2 in /usr/local/lib/python3.10/dist-packages (from pandas>=1.0.0->ucimlrepo) (2.8.2)\n",
            "Requirement already satisfied: pytz>=2020.1 in /usr/local/lib/python3.10/dist-packages (from pandas>=1.0.0->ucimlrepo) (2023.4)\n",
            "Requirement already satisfied: tzdata>=2022.1 in /usr/local/lib/python3.10/dist-packages (from pandas>=1.0.0->ucimlrepo) (2024.1)\n",
            "Requirement already satisfied: numpy>=1.21.0 in /usr/local/lib/python3.10/dist-packages (from pandas>=1.0.0->ucimlrepo) (1.25.2)\n",
            "Requirement already satisfied: six>=1.5 in /usr/local/lib/python3.10/dist-packages (from python-dateutil>=2.8.2->pandas>=1.0.0->ucimlrepo) (1.16.0)\n",
            "Installing collected packages: ucimlrepo\n",
            "Successfully installed ucimlrepo-0.0.7\n"
          ]
        }
      ]
    },
    {
      "cell_type": "code",
      "source": [
        "from ucimlrepo import fetch_ucirepo\n",
        "\n",
        "# fetch dataset\n",
        "spambase = fetch_ucirepo(id=94)\n",
        "\n",
        "# data (as pandas dataframes)\n",
        "X = spambase.data.features\n",
        "y = spambase.data.targets\n",
        "\n",
        "# metadata\n",
        "print(spambase.metadata)\n",
        "\n",
        "# variable information\n",
        "print(spambase.variables)\n"
      ],
      "metadata": {
        "colab": {
          "base_uri": "https://localhost:8080/"
        },
        "id": "vPEVoEjnSFBo",
        "outputId": "f871d87f-5693-414b-b222-f094817b90a9"
      },
      "execution_count": null,
      "outputs": [
        {
          "output_type": "stream",
          "name": "stdout",
          "text": [
            "{'uci_id': 94, 'name': 'Spambase', 'repository_url': 'https://archive.ics.uci.edu/dataset/94/spambase', 'data_url': 'https://archive.ics.uci.edu/static/public/94/data.csv', 'abstract': 'Classifying Email as Spam or Non-Spam', 'area': 'Computer Science', 'tasks': ['Classification'], 'characteristics': ['Multivariate'], 'num_instances': 4601, 'num_features': 57, 'feature_types': ['Integer', 'Real'], 'demographics': [], 'target_col': ['Class'], 'index_col': None, 'has_missing_values': 'no', 'missing_values_symbol': None, 'year_of_dataset_creation': 1999, 'last_updated': 'Mon Aug 28 2023', 'dataset_doi': '10.24432/C53G6X', 'creators': ['Mark Hopkins', 'Erik Reeber', 'George Forman', 'Jaap Suermondt'], 'intro_paper': None, 'additional_info': {'summary': 'The \"spam\" concept is diverse: advertisements for products/web sites, make money fast schemes, chain letters, pornography...\\n\\nThe classification task for this dataset is to determine whether a given email is spam or not.\\n\\t\\nOur collection of spam e-mails came from our postmaster and individuals who had filed spam.  Our collection of non-spam e-mails came from filed work and personal e-mails, and hence the word \\'george\\' and the area code \\'650\\' are indicators of non-spam.  These are useful when constructing a personalized spam filter.  One would either have to blind such non-spam indicators or get a very wide collection of non-spam to generate a general purpose spam filter.\\n\\nFor background on spam: Cranor, Lorrie F., LaMacchia, Brian A.  Spam!, Communications of the ACM, 41(8):74-83, 1998.\\n\\nTypical performance is around ~7% misclassification error. False positives (marking good mail as spam) are very undesirable.If we insist on zero false positives in the training/testing set, 20-25% of the spam passed through the filter. See also Hewlett-Packard Internal-only Technical Report. External version forthcoming. ', 'purpose': None, 'funded_by': None, 'instances_represent': 'Emails', 'recommended_data_splits': None, 'sensitive_data': None, 'preprocessing_description': None, 'variable_info': 'The last column of \\'spambase.data\\' denotes whether the e-mail was considered spam (1) or not (0), i.e. unsolicited commercial e-mail.  Most of the attributes indicate whether a particular word or character was frequently occuring in the e-mail.  The run-length attributes (55-57) measure the length of sequences of consecutive capital letters.  For the statistical measures of each attribute, see the end of this file.  Here are the definitions of the attributes:\\r\\n\\r\\n48 continuous real [0,100] attributes of type word_freq_WORD \\r\\n= percentage of words in the e-mail that match WORD, i.e. 100 * (number of times the WORD appears in the e-mail) / total number of words in e-mail.  A \"word\" in this case is any string of alphanumeric characters bounded by non-alphanumeric characters or end-of-string.\\r\\n\\r\\n6 continuous real [0,100] attributes of type char_freq_CHAR] \\r\\n= percentage of characters in the e-mail that match CHAR, i.e. 100 * (number of CHAR occurences) / total characters in e-mail\\r\\n\\r\\n1 continuous real [1,...] attribute of type capital_run_length_average \\r\\n= average length of uninterrupted sequences of capital letters\\r\\n\\r\\n1 continuous integer [1,...] attribute of type capital_run_length_longest \\r\\n= length of longest uninterrupted sequence of capital letters\\r\\n\\r\\n1 continuous integer [1,...] attribute of type capital_run_length_total \\r\\n= sum of length of uninterrupted sequences of capital letters \\r\\n= total number of capital letters in the e-mail\\r\\n\\r\\n1 nominal {0,1} class attribute of type spam\\r\\n= denotes whether the e-mail was considered spam (1) or not (0), i.e. unsolicited commercial e-mail.  \\r\\n', 'citation': None}}\n",
            "                          name     role        type demographic  \\\n",
            "0               word_freq_make  Feature  Continuous        None   \n",
            "1            word_freq_address  Feature  Continuous        None   \n",
            "2                word_freq_all  Feature  Continuous        None   \n",
            "3                 word_freq_3d  Feature  Continuous        None   \n",
            "4                word_freq_our  Feature  Continuous        None   \n",
            "5               word_freq_over  Feature  Continuous        None   \n",
            "6             word_freq_remove  Feature  Continuous        None   \n",
            "7           word_freq_internet  Feature  Continuous        None   \n",
            "8              word_freq_order  Feature  Continuous        None   \n",
            "9               word_freq_mail  Feature  Continuous        None   \n",
            "10           word_freq_receive  Feature  Continuous        None   \n",
            "11              word_freq_will  Feature  Continuous        None   \n",
            "12            word_freq_people  Feature  Continuous        None   \n",
            "13            word_freq_report  Feature  Continuous        None   \n",
            "14         word_freq_addresses  Feature  Continuous        None   \n",
            "15              word_freq_free  Feature  Continuous        None   \n",
            "16          word_freq_business  Feature  Continuous        None   \n",
            "17             word_freq_email  Feature  Continuous        None   \n",
            "18               word_freq_you  Feature  Continuous        None   \n",
            "19            word_freq_credit  Feature  Continuous        None   \n",
            "20              word_freq_your  Feature  Continuous        None   \n",
            "21              word_freq_font  Feature  Continuous        None   \n",
            "22               word_freq_000  Feature  Continuous        None   \n",
            "23             word_freq_money  Feature  Continuous        None   \n",
            "24                word_freq_hp  Feature  Continuous        None   \n",
            "25               word_freq_hpl  Feature  Continuous        None   \n",
            "26            word_freq_george  Feature  Continuous        None   \n",
            "27               word_freq_650  Feature  Continuous        None   \n",
            "28               word_freq_lab  Feature  Continuous        None   \n",
            "29              word_freq_labs  Feature  Continuous        None   \n",
            "30            word_freq_telnet  Feature  Continuous        None   \n",
            "31               word_freq_857  Feature  Continuous        None   \n",
            "32              word_freq_data  Feature  Continuous        None   \n",
            "33               word_freq_415  Feature  Continuous        None   \n",
            "34                word_freq_85  Feature  Continuous        None   \n",
            "35        word_freq_technology  Feature  Continuous        None   \n",
            "36              word_freq_1999  Feature  Continuous        None   \n",
            "37             word_freq_parts  Feature  Continuous        None   \n",
            "38                word_freq_pm  Feature  Continuous        None   \n",
            "39            word_freq_direct  Feature  Continuous        None   \n",
            "40                word_freq_cs  Feature  Continuous        None   \n",
            "41           word_freq_meeting  Feature  Continuous        None   \n",
            "42          word_freq_original  Feature  Continuous        None   \n",
            "43           word_freq_project  Feature  Continuous        None   \n",
            "44                word_freq_re  Feature  Continuous        None   \n",
            "45               word_freq_edu  Feature  Continuous        None   \n",
            "46             word_freq_table  Feature  Continuous        None   \n",
            "47        word_freq_conference  Feature  Continuous        None   \n",
            "48                 char_freq_;  Feature  Continuous        None   \n",
            "49                 char_freq_(  Feature  Continuous        None   \n",
            "50                 char_freq_[  Feature  Continuous        None   \n",
            "51                 char_freq_!  Feature  Continuous        None   \n",
            "52                 char_freq_$  Feature  Continuous        None   \n",
            "53                 char_freq_#  Feature  Continuous        None   \n",
            "54  capital_run_length_average  Feature  Continuous        None   \n",
            "55  capital_run_length_longest  Feature  Continuous        None   \n",
            "56    capital_run_length_total  Feature  Continuous        None   \n",
            "57                       Class   Target      Binary        None   \n",
            "\n",
            "                 description units missing_values  \n",
            "0                       None  None             no  \n",
            "1                       None  None             no  \n",
            "2                       None  None             no  \n",
            "3                       None  None             no  \n",
            "4                       None  None             no  \n",
            "5                       None  None             no  \n",
            "6                       None  None             no  \n",
            "7                       None  None             no  \n",
            "8                       None  None             no  \n",
            "9                       None  None             no  \n",
            "10                      None  None             no  \n",
            "11                      None  None             no  \n",
            "12                      None  None             no  \n",
            "13                      None  None             no  \n",
            "14                      None  None             no  \n",
            "15                      None  None             no  \n",
            "16                      None  None             no  \n",
            "17                      None  None             no  \n",
            "18                      None  None             no  \n",
            "19                      None  None             no  \n",
            "20                      None  None             no  \n",
            "21                      None  None             no  \n",
            "22                      None  None             no  \n",
            "23                      None  None             no  \n",
            "24                      None  None             no  \n",
            "25                      None  None             no  \n",
            "26                      None  None             no  \n",
            "27                      None  None             no  \n",
            "28                      None  None             no  \n",
            "29                      None  None             no  \n",
            "30                      None  None             no  \n",
            "31                      None  None             no  \n",
            "32                      None  None             no  \n",
            "33                      None  None             no  \n",
            "34                      None  None             no  \n",
            "35                      None  None             no  \n",
            "36                      None  None             no  \n",
            "37                      None  None             no  \n",
            "38                      None  None             no  \n",
            "39                      None  None             no  \n",
            "40                      None  None             no  \n",
            "41                      None  None             no  \n",
            "42                      None  None             no  \n",
            "43                      None  None             no  \n",
            "44                      None  None             no  \n",
            "45                      None  None             no  \n",
            "46                      None  None             no  \n",
            "47                      None  None             no  \n",
            "48                      None  None             no  \n",
            "49                      None  None             no  \n",
            "50                      None  None             no  \n",
            "51                      None  None             no  \n",
            "52                      None  None             no  \n",
            "53                      None  None             no  \n",
            "54                      None  None             no  \n",
            "55                      None  None             no  \n",
            "56                      None  None             no  \n",
            "57  spam (1) or not spam (0)  None             no  \n"
          ]
        }
      ]
    },
    {
      "cell_type": "code",
      "source": [
        "import pandas as pd\n",
        "import numpy as np\n",
        "from sklearn.feature_extraction.text import CountVectorizer, TfidfVectorizer\n",
        "from sklearn.model_selection import train_test_split\n",
        "from sklearn.linear_model import LogisticRegression\n",
        "from sklearn.naive_bayes import MultinomialNB\n",
        "from sklearn.svm import SVC\n",
        "from sklearn.metrics import accuracy_score, precision_score, recall_score, f1_score, confusion_matrix\n",
        "from sklearn.model_selection import GridSearchCV\n",
        "import re\n",
        "import string\n"
      ],
      "metadata": {
        "id": "els9NymRSMmJ"
      },
      "execution_count": null,
      "outputs": []
    },
    {
      "cell_type": "code",
      "source": [
        "data = pd.read_csv('/content/spambase.data', header=None)\n",
        "documentation = open('/content/spambase.DOCUMENTATION').read()\n",
        "names = open('/content/spambase.names').read()\n"
      ],
      "metadata": {
        "id": "k2B5ND2RSeZU"
      },
      "execution_count": null,
      "outputs": []
    },
    {
      "cell_type": "code",
      "source": [
        "X = data.iloc[:, :-1]\n",
        "y = data.iloc[:, -1]"
      ],
      "metadata": {
        "id": "pqSFAE-qSmvm"
      },
      "execution_count": null,
      "outputs": []
    },
    {
      "cell_type": "code",
      "source": [
        "print(data.head())"
      ],
      "metadata": {
        "colab": {
          "base_uri": "https://localhost:8080/"
        },
        "id": "VLOIsMagTVCF",
        "outputId": "5ac5b452-8ca3-402a-8d80-f165b8d07fee"
      },
      "execution_count": null,
      "outputs": [
        {
          "output_type": "stream",
          "name": "stdout",
          "text": [
            "     0     1     2    3     4     5     6     7     8     9   ...    48  \\\n",
            "0  0.00  0.64  0.64  0.0  0.32  0.00  0.00  0.00  0.00  0.00  ...  0.00   \n",
            "1  0.21  0.28  0.50  0.0  0.14  0.28  0.21  0.07  0.00  0.94  ...  0.00   \n",
            "2  0.06  0.00  0.71  0.0  1.23  0.19  0.19  0.12  0.64  0.25  ...  0.01   \n",
            "3  0.00  0.00  0.00  0.0  0.63  0.00  0.31  0.63  0.31  0.63  ...  0.00   \n",
            "4  0.00  0.00  0.00  0.0  0.63  0.00  0.31  0.63  0.31  0.63  ...  0.00   \n",
            "\n",
            "      49   50     51     52     53     54   55    56  57  \n",
            "0  0.000  0.0  0.778  0.000  0.000  3.756   61   278   1  \n",
            "1  0.132  0.0  0.372  0.180  0.048  5.114  101  1028   1  \n",
            "2  0.143  0.0  0.276  0.184  0.010  9.821  485  2259   1  \n",
            "3  0.137  0.0  0.137  0.000  0.000  3.537   40   191   1  \n",
            "4  0.135  0.0  0.135  0.000  0.000  3.537   40   191   1  \n",
            "\n",
            "[5 rows x 58 columns]\n"
          ]
        }
      ]
    },
    {
      "cell_type": "code",
      "source": [
        "X = X.apply(lambda x: ' '.join(x.astype(str)), axis=1)\n",
        "print(X.head())"
      ],
      "metadata": {
        "colab": {
          "base_uri": "https://localhost:8080/"
        },
        "id": "Pg2EsfUvUN_l",
        "outputId": "0bb52812-5662-432c-a284-5c8898d6023d"
      },
      "execution_count": null,
      "outputs": [
        {
          "output_type": "stream",
          "name": "stdout",
          "text": [
            "0    0.0 0.64 0.64 0.0 0.32 0.0 0.0 0.0 0.0 0.0 0.0...\n",
            "1    0.21 0.28 0.5 0.0 0.14 0.28 0.21 0.07 0.0 0.94...\n",
            "2    0.06 0.0 0.71 0.0 1.23 0.19 0.19 0.12 0.64 0.2...\n",
            "3    0.0 0.0 0.0 0.0 0.63 0.0 0.31 0.63 0.31 0.63 0...\n",
            "4    0.0 0.0 0.0 0.0 0.63 0.0 0.31 0.63 0.31 0.63 0...\n",
            "dtype: object\n"
          ]
        }
      ]
    },
    {
      "cell_type": "code",
      "source": [
        "X_train, X_test, y_train, y_test = train_test_split(X, y, test_size=0.2, random_state=42)\n"
      ],
      "metadata": {
        "id": "Tb3MZdEbUe1n"
      },
      "execution_count": null,
      "outputs": []
    },
    {
      "cell_type": "code",
      "source": [
        "vectorizer = TfidfVectorizer()\n",
        "X_train_tfidf = vectorizer.fit_transform(X_train)\n",
        "X_test_tfidf = vectorizer.transform(X_test)\n"
      ],
      "metadata": {
        "id": "EXu6dtMVUru9"
      },
      "execution_count": null,
      "outputs": []
    },
    {
      "cell_type": "code",
      "source": [
        "lr_model = LogisticRegression()\n",
        "lr_model.fit(X_train_tfidf, y_train)\n",
        "y_pred_lr = lr_model.predict(X_test_tfidf)"
      ],
      "metadata": {
        "id": "DJYZP3JbUwzq"
      },
      "execution_count": null,
      "outputs": []
    },
    {
      "cell_type": "code",
      "source": [
        "nb_model = MultinomialNB()\n",
        "nb_model.fit(X_train_tfidf, y_train)\n",
        "y_pred_nb = nb_model.predict(X_test_tfidf)"
      ],
      "metadata": {
        "id": "P4ycW-D9U3ng"
      },
      "execution_count": null,
      "outputs": []
    },
    {
      "cell_type": "code",
      "source": [
        "svm_model = SVC()\n",
        "svm_model.fit(X_train_tfidf, y_train)\n",
        "y_pred_svm = svm_model.predict(X_test_tfidf)\n"
      ],
      "metadata": {
        "id": "2zMPQW8VU71p"
      },
      "execution_count": null,
      "outputs": []
    },
    {
      "cell_type": "code",
      "source": [
        "def evaluate_model(y_test, y_pred, model_name):\n",
        "    print(f\"Evaluating {model_name}\")\n",
        "    print(f\"Accuracy: {accuracy_score(y_test, y_pred)}\")\n",
        "    print(f\"Precision: {precision_score(y_test, y_pred)}\")\n",
        "    print(f\"Recall: {recall_score(y_test, y_pred)}\")\n",
        "    print(f\"F1 Score: {f1_score(y_test, y_pred)}\")\n",
        "    print(f\"Confusion Matrix: \\n{confusion_matrix(y_test, y_pred)}\\n\")"
      ],
      "metadata": {
        "id": "tKDYmTljVCK0"
      },
      "execution_count": null,
      "outputs": []
    },
    {
      "cell_type": "code",
      "source": [
        "evaluate_model(y_test, y_pred_lr, \"Logistic Regression\")\n",
        "evaluate_model(y_test, y_pred_nb, \"Naive Bayes\")\n",
        "evaluate_model(y_test, y_pred_svm, \"Support Vector Machine\")"
      ],
      "metadata": {
        "colab": {
          "base_uri": "https://localhost:8080/"
        },
        "id": "DH-QsO-UVLXI",
        "outputId": "8f4455e3-4252-434e-d7d7-a4028449671e"
      },
      "execution_count": null,
      "outputs": [
        {
          "output_type": "stream",
          "name": "stdout",
          "text": [
            "Evaluating Logistic Regression\n",
            "Accuracy: 0.6796959826275787\n",
            "Precision: 0.6954732510288066\n",
            "Recall: 0.43333333333333335\n",
            "F1 Score: 0.5339652448657188\n",
            "Confusion Matrix: \n",
            "[[457  74]\n",
            " [221 169]]\n",
            "\n",
            "Evaluating Naive Bayes\n",
            "Accuracy: 0.6243213897937026\n",
            "Precision: 0.75\n",
            "Recall: 0.16923076923076924\n",
            "F1 Score: 0.2761506276150627\n",
            "Confusion Matrix: \n",
            "[[509  22]\n",
            " [324  66]]\n",
            "\n",
            "Evaluating Support Vector Machine\n",
            "Accuracy: 0.6959826275787188\n",
            "Precision: 0.7594339622641509\n",
            "Recall: 0.4128205128205128\n",
            "F1 Score: 0.5348837209302325\n",
            "Confusion Matrix: \n",
            "[[480  51]\n",
            " [229 161]]\n",
            "\n"
          ]
        }
      ]
    },
    {
      "cell_type": "code",
      "source": [
        "param_grid = {'C': [0.1, 1, 10, 100], 'gamma': [1, 0.1, 0.01, 0.001], 'kernel': ['rbf']}\n",
        "grid = GridSearchCV(SVC(), param_grid, refit=True, verbose=2)\n",
        "grid.fit(X_train_tfidf, y_train)"
      ],
      "metadata": {
        "colab": {
          "base_uri": "https://localhost:8080/",
          "height": 1000
        },
        "id": "bt_a0qqwVP9G",
        "outputId": "ec16e051-840a-4589-84b0-a7117e8cb5fb"
      },
      "execution_count": null,
      "outputs": [
        {
          "output_type": "stream",
          "name": "stdout",
          "text": [
            "Fitting 5 folds for each of 16 candidates, totalling 80 fits\n",
            "[CV] END .........................C=0.1, gamma=1, kernel=rbf; total time=   1.5s\n",
            "[CV] END .........................C=0.1, gamma=1, kernel=rbf; total time=   1.4s\n",
            "[CV] END .........................C=0.1, gamma=1, kernel=rbf; total time=   1.4s\n",
            "[CV] END .........................C=0.1, gamma=1, kernel=rbf; total time=   1.0s\n",
            "[CV] END .........................C=0.1, gamma=1, kernel=rbf; total time=   1.2s\n",
            "[CV] END .......................C=0.1, gamma=0.1, kernel=rbf; total time=   1.3s\n",
            "[CV] END .......................C=0.1, gamma=0.1, kernel=rbf; total time=   1.3s\n",
            "[CV] END .......................C=0.1, gamma=0.1, kernel=rbf; total time=   1.1s\n",
            "[CV] END .......................C=0.1, gamma=0.1, kernel=rbf; total time=   0.9s\n",
            "[CV] END .......................C=0.1, gamma=0.1, kernel=rbf; total time=   0.9s\n",
            "[CV] END ......................C=0.1, gamma=0.01, kernel=rbf; total time=   0.9s\n",
            "[CV] END ......................C=0.1, gamma=0.01, kernel=rbf; total time=   0.9s\n",
            "[CV] END ......................C=0.1, gamma=0.01, kernel=rbf; total time=   0.9s\n",
            "[CV] END ......................C=0.1, gamma=0.01, kernel=rbf; total time=   0.9s\n",
            "[CV] END ......................C=0.1, gamma=0.01, kernel=rbf; total time=   0.9s\n",
            "[CV] END .....................C=0.1, gamma=0.001, kernel=rbf; total time=   0.9s\n",
            "[CV] END .....................C=0.1, gamma=0.001, kernel=rbf; total time=   0.9s\n",
            "[CV] END .....................C=0.1, gamma=0.001, kernel=rbf; total time=   0.9s\n",
            "[CV] END .....................C=0.1, gamma=0.001, kernel=rbf; total time=   1.1s\n",
            "[CV] END .....................C=0.1, gamma=0.001, kernel=rbf; total time=   1.2s\n",
            "[CV] END ...........................C=1, gamma=1, kernel=rbf; total time=   1.5s\n",
            "[CV] END ...........................C=1, gamma=1, kernel=rbf; total time=   1.6s\n",
            "[CV] END ...........................C=1, gamma=1, kernel=rbf; total time=   1.4s\n",
            "[CV] END ...........................C=1, gamma=1, kernel=rbf; total time=   1.5s\n",
            "[CV] END ...........................C=1, gamma=1, kernel=rbf; total time=   1.1s\n",
            "[CV] END .........................C=1, gamma=0.1, kernel=rbf; total time=   1.0s\n",
            "[CV] END .........................C=1, gamma=0.1, kernel=rbf; total time=   1.0s\n",
            "[CV] END .........................C=1, gamma=0.1, kernel=rbf; total time=   1.0s\n",
            "[CV] END .........................C=1, gamma=0.1, kernel=rbf; total time=   1.0s\n",
            "[CV] END .........................C=1, gamma=0.1, kernel=rbf; total time=   0.9s\n",
            "[CV] END ........................C=1, gamma=0.01, kernel=rbf; total time=   1.0s\n",
            "[CV] END ........................C=1, gamma=0.01, kernel=rbf; total time=   1.3s\n",
            "[CV] END ........................C=1, gamma=0.01, kernel=rbf; total time=   1.3s\n",
            "[CV] END ........................C=1, gamma=0.01, kernel=rbf; total time=   1.1s\n",
            "[CV] END ........................C=1, gamma=0.01, kernel=rbf; total time=   0.9s\n",
            "[CV] END .......................C=1, gamma=0.001, kernel=rbf; total time=   0.9s\n",
            "[CV] END .......................C=1, gamma=0.001, kernel=rbf; total time=   0.9s\n",
            "[CV] END .......................C=1, gamma=0.001, kernel=rbf; total time=   0.9s\n",
            "[CV] END .......................C=1, gamma=0.001, kernel=rbf; total time=   0.9s\n",
            "[CV] END .......................C=1, gamma=0.001, kernel=rbf; total time=   0.9s\n",
            "[CV] END ..........................C=10, gamma=1, kernel=rbf; total time=   1.2s\n",
            "[CV] END ..........................C=10, gamma=1, kernel=rbf; total time=   1.1s\n",
            "[CV] END ..........................C=10, gamma=1, kernel=rbf; total time=   1.2s\n",
            "[CV] END ..........................C=10, gamma=1, kernel=rbf; total time=   1.4s\n",
            "[CV] END ..........................C=10, gamma=1, kernel=rbf; total time=   1.6s\n",
            "[CV] END ........................C=10, gamma=0.1, kernel=rbf; total time=   1.4s\n",
            "[CV] END ........................C=10, gamma=0.1, kernel=rbf; total time=   1.0s\n",
            "[CV] END ........................C=10, gamma=0.1, kernel=rbf; total time=   1.0s\n",
            "[CV] END ........................C=10, gamma=0.1, kernel=rbf; total time=   1.3s\n",
            "[CV] END ........................C=10, gamma=0.1, kernel=rbf; total time=   1.5s\n",
            "[CV] END .......................C=10, gamma=0.01, kernel=rbf; total time=   1.3s\n",
            "[CV] END .......................C=10, gamma=0.01, kernel=rbf; total time=   1.4s\n",
            "[CV] END .......................C=10, gamma=0.01, kernel=rbf; total time=   1.4s\n",
            "[CV] END .......................C=10, gamma=0.01, kernel=rbf; total time=   1.9s\n",
            "[CV] END .......................C=10, gamma=0.01, kernel=rbf; total time=   3.6s\n",
            "[CV] END ......................C=10, gamma=0.001, kernel=rbf; total time=   1.9s\n",
            "[CV] END ......................C=10, gamma=0.001, kernel=rbf; total time=   1.9s\n",
            "[CV] END ......................C=10, gamma=0.001, kernel=rbf; total time=   2.2s\n",
            "[CV] END ......................C=10, gamma=0.001, kernel=rbf; total time=   2.0s\n",
            "[CV] END ......................C=10, gamma=0.001, kernel=rbf; total time=   2.0s\n",
            "[CV] END .........................C=100, gamma=1, kernel=rbf; total time=   3.8s\n",
            "[CV] END .........................C=100, gamma=1, kernel=rbf; total time=   3.1s\n",
            "[CV] END .........................C=100, gamma=1, kernel=rbf; total time=   2.5s\n",
            "[CV] END .........................C=100, gamma=1, kernel=rbf; total time=   1.7s\n",
            "[CV] END .........................C=100, gamma=1, kernel=rbf; total time=   1.2s\n",
            "[CV] END .......................C=100, gamma=0.1, kernel=rbf; total time=   1.7s\n",
            "[CV] END .......................C=100, gamma=0.1, kernel=rbf; total time=   2.4s\n",
            "[CV] END .......................C=100, gamma=0.1, kernel=rbf; total time=   2.6s\n",
            "[CV] END .......................C=100, gamma=0.1, kernel=rbf; total time=   2.7s\n",
            "[CV] END .......................C=100, gamma=0.1, kernel=rbf; total time=   1.8s\n",
            "[CV] END ......................C=100, gamma=0.01, kernel=rbf; total time=   1.0s\n",
            "[CV] END ......................C=100, gamma=0.01, kernel=rbf; total time=   1.1s\n",
            "[CV] END ......................C=100, gamma=0.01, kernel=rbf; total time=   1.0s\n",
            "[CV] END ......................C=100, gamma=0.01, kernel=rbf; total time=   1.0s\n",
            "[CV] END ......................C=100, gamma=0.01, kernel=rbf; total time=   1.0s\n",
            "[CV] END .....................C=100, gamma=0.001, kernel=rbf; total time=   1.0s\n",
            "[CV] END .....................C=100, gamma=0.001, kernel=rbf; total time=   1.0s\n",
            "[CV] END .....................C=100, gamma=0.001, kernel=rbf; total time=   1.1s\n",
            "[CV] END .....................C=100, gamma=0.001, kernel=rbf; total time=   1.3s\n",
            "[CV] END .....................C=100, gamma=0.001, kernel=rbf; total time=   1.4s\n"
          ]
        },
        {
          "output_type": "execute_result",
          "data": {
            "text/plain": [
              "GridSearchCV(estimator=SVC(),\n",
              "             param_grid={'C': [0.1, 1, 10, 100], 'gamma': [1, 0.1, 0.01, 0.001],\n",
              "                         'kernel': ['rbf']},\n",
              "             verbose=2)"
            ],
            "text/html": [
              "<style>#sk-container-id-1 {color: black;background-color: white;}#sk-container-id-1 pre{padding: 0;}#sk-container-id-1 div.sk-toggleable {background-color: white;}#sk-container-id-1 label.sk-toggleable__label {cursor: pointer;display: block;width: 100%;margin-bottom: 0;padding: 0.3em;box-sizing: border-box;text-align: center;}#sk-container-id-1 label.sk-toggleable__label-arrow:before {content: \"▸\";float: left;margin-right: 0.25em;color: #696969;}#sk-container-id-1 label.sk-toggleable__label-arrow:hover:before {color: black;}#sk-container-id-1 div.sk-estimator:hover label.sk-toggleable__label-arrow:before {color: black;}#sk-container-id-1 div.sk-toggleable__content {max-height: 0;max-width: 0;overflow: hidden;text-align: left;background-color: #f0f8ff;}#sk-container-id-1 div.sk-toggleable__content pre {margin: 0.2em;color: black;border-radius: 0.25em;background-color: #f0f8ff;}#sk-container-id-1 input.sk-toggleable__control:checked~div.sk-toggleable__content {max-height: 200px;max-width: 100%;overflow: auto;}#sk-container-id-1 input.sk-toggleable__control:checked~label.sk-toggleable__label-arrow:before {content: \"▾\";}#sk-container-id-1 div.sk-estimator input.sk-toggleable__control:checked~label.sk-toggleable__label {background-color: #d4ebff;}#sk-container-id-1 div.sk-label input.sk-toggleable__control:checked~label.sk-toggleable__label {background-color: #d4ebff;}#sk-container-id-1 input.sk-hidden--visually {border: 0;clip: rect(1px 1px 1px 1px);clip: rect(1px, 1px, 1px, 1px);height: 1px;margin: -1px;overflow: hidden;padding: 0;position: absolute;width: 1px;}#sk-container-id-1 div.sk-estimator {font-family: monospace;background-color: #f0f8ff;border: 1px dotted black;border-radius: 0.25em;box-sizing: border-box;margin-bottom: 0.5em;}#sk-container-id-1 div.sk-estimator:hover {background-color: #d4ebff;}#sk-container-id-1 div.sk-parallel-item::after {content: \"\";width: 100%;border-bottom: 1px solid gray;flex-grow: 1;}#sk-container-id-1 div.sk-label:hover label.sk-toggleable__label {background-color: #d4ebff;}#sk-container-id-1 div.sk-serial::before {content: \"\";position: absolute;border-left: 1px solid gray;box-sizing: border-box;top: 0;bottom: 0;left: 50%;z-index: 0;}#sk-container-id-1 div.sk-serial {display: flex;flex-direction: column;align-items: center;background-color: white;padding-right: 0.2em;padding-left: 0.2em;position: relative;}#sk-container-id-1 div.sk-item {position: relative;z-index: 1;}#sk-container-id-1 div.sk-parallel {display: flex;align-items: stretch;justify-content: center;background-color: white;position: relative;}#sk-container-id-1 div.sk-item::before, #sk-container-id-1 div.sk-parallel-item::before {content: \"\";position: absolute;border-left: 1px solid gray;box-sizing: border-box;top: 0;bottom: 0;left: 50%;z-index: -1;}#sk-container-id-1 div.sk-parallel-item {display: flex;flex-direction: column;z-index: 1;position: relative;background-color: white;}#sk-container-id-1 div.sk-parallel-item:first-child::after {align-self: flex-end;width: 50%;}#sk-container-id-1 div.sk-parallel-item:last-child::after {align-self: flex-start;width: 50%;}#sk-container-id-1 div.sk-parallel-item:only-child::after {width: 0;}#sk-container-id-1 div.sk-dashed-wrapped {border: 1px dashed gray;margin: 0 0.4em 0.5em 0.4em;box-sizing: border-box;padding-bottom: 0.4em;background-color: white;}#sk-container-id-1 div.sk-label label {font-family: monospace;font-weight: bold;display: inline-block;line-height: 1.2em;}#sk-container-id-1 div.sk-label-container {text-align: center;}#sk-container-id-1 div.sk-container {/* jupyter's `normalize.less` sets `[hidden] { display: none; }` but bootstrap.min.css set `[hidden] { display: none !important; }` so we also need the `!important` here to be able to override the default hidden behavior on the sphinx rendered scikit-learn.org. See: https://github.com/scikit-learn/scikit-learn/issues/21755 */display: inline-block !important;position: relative;}#sk-container-id-1 div.sk-text-repr-fallback {display: none;}</style><div id=\"sk-container-id-1\" class=\"sk-top-container\"><div class=\"sk-text-repr-fallback\"><pre>GridSearchCV(estimator=SVC(),\n",
              "             param_grid={&#x27;C&#x27;: [0.1, 1, 10, 100], &#x27;gamma&#x27;: [1, 0.1, 0.01, 0.001],\n",
              "                         &#x27;kernel&#x27;: [&#x27;rbf&#x27;]},\n",
              "             verbose=2)</pre><b>In a Jupyter environment, please rerun this cell to show the HTML representation or trust the notebook. <br />On GitHub, the HTML representation is unable to render, please try loading this page with nbviewer.org.</b></div><div class=\"sk-container\" hidden><div class=\"sk-item sk-dashed-wrapped\"><div class=\"sk-label-container\"><div class=\"sk-label sk-toggleable\"><input class=\"sk-toggleable__control sk-hidden--visually\" id=\"sk-estimator-id-1\" type=\"checkbox\" ><label for=\"sk-estimator-id-1\" class=\"sk-toggleable__label sk-toggleable__label-arrow\">GridSearchCV</label><div class=\"sk-toggleable__content\"><pre>GridSearchCV(estimator=SVC(),\n",
              "             param_grid={&#x27;C&#x27;: [0.1, 1, 10, 100], &#x27;gamma&#x27;: [1, 0.1, 0.01, 0.001],\n",
              "                         &#x27;kernel&#x27;: [&#x27;rbf&#x27;]},\n",
              "             verbose=2)</pre></div></div></div><div class=\"sk-parallel\"><div class=\"sk-parallel-item\"><div class=\"sk-item\"><div class=\"sk-label-container\"><div class=\"sk-label sk-toggleable\"><input class=\"sk-toggleable__control sk-hidden--visually\" id=\"sk-estimator-id-2\" type=\"checkbox\" ><label for=\"sk-estimator-id-2\" class=\"sk-toggleable__label sk-toggleable__label-arrow\">estimator: SVC</label><div class=\"sk-toggleable__content\"><pre>SVC()</pre></div></div></div><div class=\"sk-serial\"><div class=\"sk-item\"><div class=\"sk-estimator sk-toggleable\"><input class=\"sk-toggleable__control sk-hidden--visually\" id=\"sk-estimator-id-3\" type=\"checkbox\" ><label for=\"sk-estimator-id-3\" class=\"sk-toggleable__label sk-toggleable__label-arrow\">SVC</label><div class=\"sk-toggleable__content\"><pre>SVC()</pre></div></div></div></div></div></div></div></div></div></div>"
            ]
          },
          "metadata": {},
          "execution_count": 28
        }
      ]
    },
    {
      "cell_type": "code",
      "source": [
        "print(f\"Best Parameters for SVM: {grid.best_params_}\")\n",
        "grid_predictions = grid.predict(X_test_tfidf)\n",
        "\n",
        "evaluate_model(y_test, grid_predictions, \"Tuned SVM\")"
      ],
      "metadata": {
        "colab": {
          "base_uri": "https://localhost:8080/"
        },
        "id": "RHl6TNMAVTet",
        "outputId": "72c348d8-19c0-4d04-ba18-e5e39cbc672d"
      },
      "execution_count": null,
      "outputs": [
        {
          "output_type": "stream",
          "name": "stdout",
          "text": [
            "Best Parameters for SVM: {'C': 10, 'gamma': 1, 'kernel': 'rbf'}\n",
            "Evaluating Tuned SVM\n",
            "Accuracy: 0.7285559174809989\n",
            "Precision: 0.7317880794701986\n",
            "Recall: 0.5666666666666667\n",
            "F1 Score: 0.638728323699422\n",
            "Confusion Matrix: \n",
            "[[450  81]\n",
            " [169 221]]\n",
            "\n"
          ]
        }
      ]
    },
    {
      "cell_type": "code",
      "source": [
        "def predict_email(text):\n",
        "    text_tfidf = vectorizer.transform([text])\n",
        "    prediction = grid.predict(text_tfidf)\n",
        "    return \"Spam\" if prediction == 1 else \"Ham\""
      ],
      "metadata": {
        "id": "TTy8i8ceVhUp"
      },
      "execution_count": null,
      "outputs": []
    },
    {
      "cell_type": "code",
      "source": [
        "email_text = \"Free money!!!\"\n",
        "print(f\"The email is classified as: {predict_email(email_text)}\")"
      ],
      "metadata": {
        "colab": {
          "base_uri": "https://localhost:8080/"
        },
        "id": "i7tGN2dqV4T3",
        "outputId": "4fd4bc16-a838-413c-ea2c-5dbe1e27a852"
      },
      "execution_count": null,
      "outputs": [
        {
          "output_type": "stream",
          "name": "stdout",
          "text": [
            "The email is classified as: Ham\n"
          ]
        }
      ]
    },
    {
      "cell_type": "code",
      "source": [
        "import pandas as pd\n",
        "from sklearn.model_selection import train_test_split\n",
        "from sklearn.ensemble import RandomForestClassifier\n",
        "from sklearn.metrics import accuracy_score, classification_report\n",
        "data = pd.read_csv('data.csv')\n",
        "print(data.head())\n",
        "X = data.drop('target_column_name', axis=1)\n",
        "y = data['target_column_name']\n",
        "X_train, X_test, y_train, y_test = train_test_split(X, y, test_size=0.2, random_state=42)\n",
        "\n",
        "rf_model = RandomForestClassifier(random_state=42)\n",
        "\n",
        "rf_model.fit(X_train, y_train)\n",
        "y_pred = rf_model.predict(X_test)\n",
        "accuracy = accuracy_score(y_test, y_pred)\n",
        "print(f'Accuracy: {accuracy:.2f}')\n",
        "accuracy = accuracy_score(y_test, y_pred)\n",
        "print(f'Accuracy: {accuracy:.2f}')\n",
        "joblib.dump(rf_model, 'random_forest_model.pkl')"
      ],
      "metadata": {
        "id": "ctCEiHgoWF-k"
      },
      "execution_count": null,
      "outputs": []
    }
  ]
}